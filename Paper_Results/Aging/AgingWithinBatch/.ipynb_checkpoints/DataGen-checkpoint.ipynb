{
 "cells": [
  {
   "cell_type": "code",
   "execution_count": 1,
   "metadata": {},
   "outputs": [],
   "source": [
    "import csv\n",
    "import numpy as np\n",
    "from numpy import genfromtxt\n",
    "import pandas as pd\n",
    "import glob\n",
    "import random"
   ]
  },
  {
   "cell_type": "code",
   "execution_count": 58,
   "metadata": {},
   "outputs": [],
   "source": [
    "Batch = '18'\n",
    "age   = '11'"
   ]
  },
  {
   "cell_type": "code",
   "execution_count": 59,
   "metadata": {},
   "outputs": [],
   "source": [
    "TextFile = glob.glob(\"Batch\"+Batch+\"/SourceHF/*.txt\")\n",
    "TextFile.sort()"
   ]
  },
  {
   "cell_type": "code",
   "execution_count": 60,
   "metadata": {},
   "outputs": [],
   "source": [
    "A = genfromtxt(TextFile[int(Batch)-1],delimiter=',')\n",
    "Train_data = A[:(int(age)+2)*42]\n",
    "    \n",
    "A = genfromtxt(TextFile[int(Batch)-1],delimiter=',')\n",
    "Test_data = A[(int(age)+2)*42:]"
   ]
  },
  {
   "cell_type": "markdown",
   "metadata": {},
   "source": [
    "# HF Training Data Set"
   ]
  },
  {
   "cell_type": "code",
   "execution_count": 61,
   "metadata": {},
   "outputs": [],
   "source": [
    "my_new_data = Train_data.reshape((-1,1))\n",
    "\n",
    "C01 = my_new_data[1::7]\n",
    "Sur = my_new_data[2::7]\n",
    "Oth = my_new_data[3::7]\n",
    "Age = my_new_data[4::7]\n",
    "Shr = np.log10(my_new_data[5::7])\n",
    "Vis = np.log10(my_new_data[6::7])"
   ]
  },
  {
   "cell_type": "code",
   "execution_count": 62,
   "metadata": {},
   "outputs": [],
   "source": [
    "#np.savetxt('C01_Train_H.txt', C01)\n",
    "#np.savetxt('Sur_Train_H.txt', Sur)\n",
    "#np.savetxt('Oth_Train_H.txt', Oth)\n",
    "np.savetxt(\"Batch\"+Batch+\"/Upto\"+age+\"/Age_Train_H.txt\", Age)\n",
    "np.savetxt(\"Batch\"+Batch+\"/Upto\"+age+\"/Shr_Train_H.txt\", Shr)\n",
    "np.savetxt(\"Batch\"+Batch+\"/Upto\"+age+\"/Vis_Train_H.txt\", Vis)"
   ]
  },
  {
   "cell_type": "markdown",
   "metadata": {},
   "source": [
    "# HF Testing Data Set"
   ]
  },
  {
   "cell_type": "code",
   "execution_count": 63,
   "metadata": {},
   "outputs": [],
   "source": [
    "my_new_data = Test_data.reshape((-1,1))\n",
    "\n",
    "C01 = my_new_data[1::7]\n",
    "Sur = my_new_data[2::7]\n",
    "Oth = my_new_data[3::7]\n",
    "Age = my_new_data[4::7]\n",
    "Shr = np.log10(my_new_data[5::7])\n",
    "Vis = np.log10(my_new_data[6::7])"
   ]
  },
  {
   "cell_type": "code",
   "execution_count": 64,
   "metadata": {},
   "outputs": [],
   "source": [
    "#np.savetxt('C01_Test_H.txt', C01)\n",
    "#np.savetxt('Sur_Test_H.txt', Sur)\n",
    "#np.savetxt('Oth_Test_H.txt', Oth)\n",
    "np.savetxt(\"Batch\"+Batch+\"/Upto\"+age+\"/Age_Test_H.txt\", Age)\n",
    "np.savetxt(\"Batch\"+Batch+\"/Upto\"+age+\"/Shr_Test_H.txt\", Shr)\n",
    "np.savetxt(\"Batch\"+Batch+\"/Upto\"+age+\"/Vis_Test_H.txt\", Vis)"
   ]
  },
  {
   "cell_type": "markdown",
   "metadata": {},
   "source": [
    "# LF Data Set"
   ]
  },
  {
   "cell_type": "code",
   "execution_count": 65,
   "metadata": {},
   "outputs": [],
   "source": [
    "Train_data = genfromtxt(\"Batch\"+Batch+\"/Upto\"+age+\"/UpTp\"+age+\"Batch18.txt\",delimiter=',')\n",
    "#Train_data = Train_data[:(int(Batch)+2)*401]\n",
    "my_new_data = Train_data.reshape((-1,1))"
   ]
  },
  {
   "cell_type": "code",
   "execution_count": 66,
   "metadata": {},
   "outputs": [],
   "source": [
    "Age = my_new_data[1::3]\n",
    "Shr = np.log10(my_new_data[0::3])\n",
    "Vis = np.log10(my_new_data[2::3])"
   ]
  },
  {
   "cell_type": "code",
   "execution_count": 67,
   "metadata": {},
   "outputs": [],
   "source": [
    "#np.savetxt('C01_L.txt', C01)\n",
    "#np.savetxt('Sur_L.txt', Sur)\n",
    "#np.savetxt('Oth_L.txt', Oth)\n",
    "np.savetxt(\"Batch\"+Batch+\"/Upto\"+age+\"/Age_L.txt\", Age)\n",
    "np.savetxt(\"Batch\"+Batch+\"/Upto\"+age+\"/Shr_L.txt\", Shr)\n",
    "np.savetxt(\"Batch\"+Batch+\"/Upto\"+age+\"/Vis_L.txt\", Vis)"
   ]
  },
  {
   "cell_type": "code",
   "execution_count": null,
   "metadata": {},
   "outputs": [],
   "source": []
  }
 ],
 "metadata": {
  "kernelspec": {
   "display_name": "Python 3",
   "language": "python",
   "name": "python3"
  },
  "language_info": {
   "codemirror_mode": {
    "name": "ipython",
    "version": 3
   },
   "file_extension": ".py",
   "mimetype": "text/x-python",
   "name": "python",
   "nbconvert_exporter": "python",
   "pygments_lexer": "ipython3",
   "version": "3.7.4"
  }
 },
 "nbformat": 4,
 "nbformat_minor": 2
}
