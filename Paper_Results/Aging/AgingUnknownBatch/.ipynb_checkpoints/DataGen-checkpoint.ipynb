{
 "cells": [
  {
   "cell_type": "code",
   "execution_count": 1,
   "metadata": {},
   "outputs": [],
   "source": [
    "import csv\n",
    "import numpy as np\n",
    "from numpy import genfromtxt\n",
    "import pandas as pd\n",
    "import glob\n",
    "import random\n",
    "import sys\n",
    "np.set_printoptions(threshold=sys.maxsize)"
   ]
  },
  {
   "cell_type": "code",
   "execution_count": 2,
   "metadata": {},
   "outputs": [],
   "source": [
    "Batch = 19\n",
    "N = '19'"
   ]
  },
  {
   "cell_type": "code",
   "execution_count": 3,
   "metadata": {},
   "outputs": [],
   "source": [
    "TextFile = glob.glob(\"SourceHF/*.txt\")\n",
    "TextFile.sort()\n",
    "TextFile = np.delete(TextFile, Batch - 1, 0)"
   ]
  },
  {
   "cell_type": "code",
   "execution_count": 4,
   "metadata": {},
   "outputs": [],
   "source": [
    "i=0\n",
    "Train_data = np.transpose((0,0,0,0,0,0,0))\n",
    "\n",
    "while i<len(TextFile):\n",
    "    A = genfromtxt(TextFile[i],delimiter=',')\n",
    "    Train_data = np.vstack((Train_data,A))\n",
    "    i=i+1\n",
    "\n",
    "Dic = 'SourceHF/Batch'+N+'.txt'\n",
    "A = genfromtxt(Dic,delimiter=',')\n",
    "#Train_data = np.vstack((Train_data,A[0:84]))\n",
    "Train_data = np.delete(Train_data, (0), axis=0)\n",
    "\n",
    "Test_data = A[84:]"
   ]
  },
  {
   "cell_type": "markdown",
   "metadata": {},
   "source": [
    "# HF Training Data Set"
   ]
  },
  {
   "cell_type": "code",
   "execution_count": 5,
   "metadata": {},
   "outputs": [],
   "source": [
    "my_new_data = Train_data.reshape((-1,1))\n",
    "\n",
    "C01 = my_new_data[1::7]\n",
    "Sur = my_new_data[2::7]\n",
    "Oth = my_new_data[3::7]\n",
    "Age = my_new_data[4::7]\n",
    "Shr = np.log10(my_new_data[5::7])\n",
    "Vis = np.log10(my_new_data[6::7])"
   ]
  },
  {
   "cell_type": "code",
   "execution_count": 6,
   "metadata": {},
   "outputs": [],
   "source": [
    "np.savetxt('Batches/Batch' + N +'/C01_Train_H.txt', C01)\n",
    "np.savetxt('Batches/Batch' + N +'/Sur_Train_H.txt', Sur)\n",
    "np.savetxt('Batches/Batch' + N +'/Oth_Train_H.txt', Oth)\n",
    "np.savetxt('Batches/Batch' + N +'/Age_Train_H.txt', Age)\n",
    "np.savetxt('Batches/Batch' + N +'/Shr_Train_H.txt', Shr)\n",
    "np.savetxt('Batches/Batch' + N +'/Vis_Train_H.txt', Vis)"
   ]
  },
  {
   "cell_type": "markdown",
   "metadata": {},
   "source": [
    "# HF Testing Data Set"
   ]
  },
  {
   "cell_type": "code",
   "execution_count": 7,
   "metadata": {},
   "outputs": [],
   "source": [
    "my_new_data = Test_data.reshape((-1,1))\n",
    "\n",
    "C01 = my_new_data[1::7]\n",
    "Sur = my_new_data[2::7]\n",
    "Oth = my_new_data[3::7]\n",
    "Age = my_new_data[4::7]\n",
    "Shr = np.log10(my_new_data[5::7])\n",
    "Vis = np.log10(my_new_data[6::7])"
   ]
  },
  {
   "cell_type": "code",
   "execution_count": 8,
   "metadata": {},
   "outputs": [],
   "source": [
    "np.savetxt('Batches/Batch' + N +'/C01_Test_H.txt', C01)\n",
    "np.savetxt('Batches/Batch' + N +'/Sur_Test_H.txt', Sur)\n",
    "np.savetxt('Batches/Batch' + N +'/Oth_Test_H.txt', Oth)\n",
    "np.savetxt('Batches/Batch' + N +'/Age_Test_H.txt', Age)\n",
    "np.savetxt('Batches/Batch' + N +'/Shr_Test_H.txt', Shr)\n",
    "np.savetxt('Batches/Batch' + N +'/Vis_Test_H.txt', Vis)"
   ]
  },
  {
   "cell_type": "markdown",
   "metadata": {},
   "source": [
    "# LF Data Set"
   ]
  },
  {
   "cell_type": "code",
   "execution_count": 9,
   "metadata": {},
   "outputs": [],
   "source": [
    "TextFile = glob.glob(\"SourceLF/*.txt\")\n",
    "TextFile.sort()\n",
    "del TextFile[Batch - 1]"
   ]
  },
  {
   "cell_type": "code",
   "execution_count": 10,
   "metadata": {},
   "outputs": [],
   "source": [
    "i=0\n",
    "Train_data = np.transpose((0,0,0,0,0,0,0))\n",
    "\n",
    "while i<(len(TextFile)):\n",
    "    A = genfromtxt(TextFile[i],delimiter=',')\n",
    "    Train_data = np.vstack((Train_data,A))\n",
    "    i=i+1\n",
    "Dic = 'SourceLF/PredictedLF/LBatch'+N+'.txt'\n",
    "A = genfromtxt(Dic,delimiter = ',')\n",
    "Train_data = np.vstack((Train_data,A[0::10]))\n",
    "Train_data = np.delete(Train_data, (0), axis=0)\n",
    "my_new_data = Train_data.reshape((-1,1))"
   ]
  },
  {
   "cell_type": "code",
   "execution_count": 11,
   "metadata": {},
   "outputs": [],
   "source": [
    "C01 = my_new_data[1::7]\n",
    "Sur = my_new_data[2::7]\n",
    "Oth = my_new_data[3::7]\n",
    "Age = my_new_data[5::7]\n",
    "Shr = np.log10(my_new_data[4::7])\n",
    "Vis = np.log10(my_new_data[6::7])"
   ]
  },
  {
   "cell_type": "code",
   "execution_count": 12,
   "metadata": {},
   "outputs": [],
   "source": [
    "np.savetxt('Batches/Batch' + N +'/C01_L.txt', C01)\n",
    "np.savetxt('Batches/Batch' + N +'/Sur_L.txt', Sur)\n",
    "np.savetxt('Batches/Batch' + N +'/Oth_L.txt', Oth)\n",
    "np.savetxt('Batches/Batch' + N +'/Age_L.txt', Age)\n",
    "np.savetxt('Batches/Batch' + N +'/Shr_L.txt', Shr)\n",
    "np.savetxt('Batches/Batch' + N +'/Vis_L.txt', Vis)"
   ]
  },
  {
   "cell_type": "code",
   "execution_count": null,
   "metadata": {},
   "outputs": [],
   "source": []
  }
 ],
 "metadata": {
  "kernelspec": {
   "display_name": "Python 3",
   "language": "python",
   "name": "python3"
  },
  "language_info": {
   "codemirror_mode": {
    "name": "ipython",
    "version": 3
   },
   "file_extension": ".py",
   "mimetype": "text/x-python",
   "name": "python",
   "nbconvert_exporter": "python",
   "pygments_lexer": "ipython3",
   "version": "3.7.4"
  }
 },
 "nbformat": 4,
 "nbformat_minor": 2
}
