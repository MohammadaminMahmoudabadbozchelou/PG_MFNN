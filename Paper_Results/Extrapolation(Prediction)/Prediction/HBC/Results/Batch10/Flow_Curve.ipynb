{
 "cells": [
  {
   "cell_type": "code",
   "execution_count": 1,
   "metadata": {},
   "outputs": [
    {
     "data": {
      "text/html": [
       "<style>.container { width:80% !important; }</style>"
      ],
      "text/plain": [
       "<IPython.core.display.HTML object>"
      ]
     },
     "metadata": {},
     "output_type": "display_data"
    },
    {
     "data": {
      "text/html": [
       "\n",
       "<style>\n",
       ".output_png {\n",
       "    display: table-cell;\n",
       "    text-align: center;\n",
       "    vertical-align: middle;\n",
       "}\n",
       "</style>\n"
      ],
      "text/plain": [
       "<IPython.core.display.HTML object>"
      ]
     },
     "execution_count": 1,
     "metadata": {},
     "output_type": "execute_result"
    }
   ],
   "source": [
    "import matplotlib.pyplot as plt\n",
    "import numpy as np\n",
    "from IPython.core.display import display, HTML\n",
    "display(HTML(\"<style>.container { width:80% !important; }</style>\"))\n",
    "HTML(\"\"\"\n",
    "<style>\n",
    ".output_png {\n",
    "    display: table-cell;\n",
    "    text-align: center;\n",
    "    vertical-align: middle;\n",
    "}\n",
    "</style>\n",
    "\"\"\")"
   ]
  },
  {
   "cell_type": "code",
   "execution_count": 2,
   "metadata": {},
   "outputs": [],
   "source": [
    "Y_A = np.genfromtxt('Y_A.txt')\n",
    "Y_M = np.genfromtxt('Y_M.txt')\n",
    "Y_D = np.genfromtxt('Y_D.txt')\n",
    "ShR = np.genfromtxt('ShR.txt')\n",
    "\n",
    "Y_A = Y_A.reshape((-1,1))\n",
    "Y_M = Y_M.reshape((-1,1))\n",
    "Y_D = Y_D.reshape((-1,1))\n",
    "ShR = ShR.reshape((-1,1))"
   ]
  },
  {
   "cell_type": "code",
   "execution_count": 3,
   "metadata": {},
   "outputs": [],
   "source": [
    "Sig_Yield =\t0.012653922\n",
    "Gam_TC = \t0.000923157\n",
    "Eta_BG =\t1.318833824\n",
    "Gam_CA =\t61.16450661\n",
    "\n",
    "Gama = np.transpose( np.power(10, np.linspace(2,-2,42) ) )\n",
    "ST = Sig_Yield + Sig_Yield * np.sqrt( Gama/Gam_TC ) + Gama*Eta_BG * np.power( 1 + np.square(Gama/Gam_CA) , -0.5)\n",
    "Vis = (ST / Gama)\n",
    "Vis = Vis.reshape((-1,1))"
   ]
  },
  {
   "cell_type": "markdown",
   "metadata": {},
   "source": [
    "# Flow Curves"
   ]
  },
  {
   "cell_type": "code",
   "execution_count": null,
   "metadata": {
    "scrolled": false
   },
   "outputs": [
    {
     "name": "stderr",
     "output_type": "stream",
     "text": [
      "findfont: Font family ['serif'] not found. Falling back to DejaVu Sans.\n"
     ]
    }
   ],
   "source": [
    "Batch = 5\n",
    "a=0\n",
    "b=2\n",
    "import matplotlib.font_manager\n",
    "from matplotlib import rc\n",
    "rc('font', **{'family': 'serif', 'serif': ['Computer Modern']})\n",
    "rc('text', usetex=True)\n",
    "\n",
    "plt.figure(figsize=(10,10),dpi=300)\n",
    "\n",
    "plt.rc('font', size=20)          # controls default text sizes\n",
    "plt.rc('axes', titlesize=20)     # fontsize of the axes title\n",
    "plt.rc('axes', labelsize=22)    # fontsize of the x and y labels\n",
    "plt.rc('xtick', labelsize=20)    # fontsize of the tick labels\n",
    "plt.rc('ytick', labelsize=20)    # fontsize of the tick labels\n",
    "plt.rc('legend', fontsize=22)    # legend fontsize\n",
    "plt.rc('figure', titlesize=22)  # fontsize of the figure title\n",
    "\n",
    "plt.plot(np.power(10,ShR[a::b]),np.power(10,Y_A[a::b]) , 'bh-', markerfacecolor='none', linewidth=1.5, markersize = 11.0)\n",
    "plt.plot(np.power(10,ShR[a::b]),np.power(10,Y_M[a::b]) , 'g<-' , markerfacecolor='none', linewidth=1.5, markersize = 11.0)\n",
    "plt.plot(np.power(10,ShR[a::b]),np.power(10,Y_D[a::b]) , 'ro-', markerfacecolor='none', linewidth=1.5, markersize = 11.0)\n",
    "plt.plot(np.power(10,ShR[a::b]),Vis[a::b] , 'yd-', markerfacecolor='none', linewidth=1.5, markersize = 11.0)\n",
    "\n",
    "plt.xlabel('Shear Rate [1/s]', fontname = 'Times New Roman', fontsize=40)\n",
    "plt.ylabel('Viscosity [Pa.s]', fontname = 'Times New Roman', fontsize=40)\n",
    "plt.legend(['Experiment','MFNN','DNN','Model'],loc='upper right')\n",
    "#plt.title('Actual and Predicted Flow Curve for a Random Batch')\n",
    "\n",
    "plt.xticks(np.arange(0,10, 1.0),fontname = \"Times New Roman\", fontsize=30)\n",
    "plt.yticks(fontname = \"Times New Roman\", fontsize=30)\n",
    "#plt.ylim(0.6,13)\n",
    "plt.xscale(\"log\")\n",
    "plt.yscale(\"log\")\n",
    "\n",
    "plt.savefig('Prediction_Batch10.png',bbox_inches = 'tight')\n",
    "\n",
    "plt.show()"
   ]
  },
  {
   "cell_type": "code",
   "execution_count": null,
   "metadata": {},
   "outputs": [],
   "source": []
  }
 ],
 "metadata": {
  "kernelspec": {
   "display_name": "Python 3",
   "language": "python",
   "name": "python3"
  },
  "language_info": {
   "codemirror_mode": {
    "name": "ipython",
    "version": 3
   },
   "file_extension": ".py",
   "mimetype": "text/x-python",
   "name": "python",
   "nbconvert_exporter": "python",
   "pygments_lexer": "ipython3",
   "version": "3.7.4"
  }
 },
 "nbformat": 4,
 "nbformat_minor": 2
}
