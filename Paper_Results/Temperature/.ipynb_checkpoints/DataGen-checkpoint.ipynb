{
 "cells": [
  {
   "cell_type": "code",
   "execution_count": 1,
   "metadata": {},
   "outputs": [],
   "source": [
    "import csv\n",
    "import numpy as np\n",
    "from numpy import genfromtxt\n",
    "import pandas as pd\n",
    "import glob\n",
    "import random\n",
    "import sys\n",
    "np.set_printoptions(threshold=sys.maxsize)"
   ]
  },
  {
   "cell_type": "code",
   "execution_count": 2,
   "metadata": {},
   "outputs": [],
   "source": [
    "N = '19'\n",
    "Batch = int(N)"
   ]
  },
  {
   "cell_type": "code",
   "execution_count": 3,
   "metadata": {},
   "outputs": [],
   "source": [
    "Train_data = np.transpose((0,0,0,0,0,0,0,0,0,0))\n",
    "\n",
    "A = genfromtxt('../DataGen/HFData/ExpT25C/Batch'+N+'.txt')\n",
    "j=0\n",
    "while j<len(A):\n",
    "    if A[j][4] == 1 and A[j][5] == 25 and A[j][6] == 0.1 and abs(A[j][7] - 25) < 1:\n",
    "        Train_data = np.vstack((Train_data,A[j]))\n",
    "    j=j+1\n",
    "\n",
    "A = genfromtxt('../DataGen/HFData/ExpRm2/Batch'+N+'.txt')\n",
    "j=0\n",
    "while j<len(A):\n",
    "    if A[j][4] == 1 and A[j][5] == 25 and A[j][6] == 0.1:\n",
    "        Train_data = np.vstack((Train_data,A[j]))\n",
    "    j=j+1\n",
    "\n",
    "Train_data = np.delete(Train_data, (0), axis=0)\n",
    "\n",
    "Test_data = np.transpose((0,0,0,0,0,0,0,0,0,0))\n",
    "\n",
    "A = genfromtxt('../DataGen/HFData/ExpT40C/Batch'+N+'.txt')\n",
    "j=0\n",
    "while j<len(A):\n",
    "    if A[j][4] == 1 and A[j][5] == 25 and A[j][6] == 0.1 and abs(A[j][7] - 40) < 1:\n",
    "        Test_data = np.vstack((Test_data,A[j]))\n",
    "    j=j+1\n",
    "\n",
    "Test_data = np.delete(Test_data, (0), axis=0)"
   ]
  },
  {
   "cell_type": "markdown",
   "metadata": {},
   "source": [
    "# HF Training Data Set"
   ]
  },
  {
   "cell_type": "code",
   "execution_count": 4,
   "metadata": {},
   "outputs": [],
   "source": [
    "my_new_data = Train_data.reshape((-1,1))\n",
    "\n",
    "C01 = my_new_data[1::10]\n",
    "Sur = my_new_data[2::10]\n",
    "Oth = my_new_data[3::10]\n",
    "Slt = my_new_data[4::10]\n",
    "StT = my_new_data[5::10]\n",
    "Age = my_new_data[6::10]\n",
    "ExT = my_new_data[7::10]\n",
    "Shr = np.log10(my_new_data[8::10])\n",
    "Vis = np.log10(my_new_data[9::10])"
   ]
  },
  {
   "cell_type": "code",
   "execution_count": 5,
   "metadata": {},
   "outputs": [],
   "source": [
    "np.savetxt('25Cto40C/Batch' + N +'/ExT_Train_H.txt', ExT)\n",
    "np.savetxt('25Cto40C/Batch' + N +'/Shr_Train_H.txt', Shr)\n",
    "np.savetxt('25Cto40C/Batch' + N +'/Vis_Train_H.txt', Vis)"
   ]
  },
  {
   "cell_type": "markdown",
   "metadata": {},
   "source": [
    "# HF Testing Data Set"
   ]
  },
  {
   "cell_type": "code",
   "execution_count": 6,
   "metadata": {},
   "outputs": [],
   "source": [
    "my_new_data = Test_data.reshape((-1,1))\n",
    "\n",
    "C01 = my_new_data[1::10]\n",
    "Sur = my_new_data[2::10]\n",
    "Oth = my_new_data[3::10]\n",
    "Slt = my_new_data[4::10]\n",
    "StT = my_new_data[5::10]\n",
    "Age = my_new_data[6::10]\n",
    "ExT = my_new_data[7::10]\n",
    "Shr = np.log10(my_new_data[8::10])\n",
    "Vis = np.log10(my_new_data[9::10])"
   ]
  },
  {
   "cell_type": "code",
   "execution_count": 7,
   "metadata": {},
   "outputs": [],
   "source": [
    "np.savetxt('25Cto40C/Batch' + N +'/ExT_Test_H.txt', ExT)\n",
    "np.savetxt('25Cto40C/Batch' + N +'/Shr_Test_H.txt', Shr)\n",
    "np.savetxt('25Cto40C/Batch' + N +'/Vis_Test_H.txt', Vis)"
   ]
  },
  {
   "cell_type": "markdown",
   "metadata": {},
   "source": [
    "# LF Data Set"
   ]
  },
  {
   "cell_type": "code",
   "execution_count": 8,
   "metadata": {},
   "outputs": [],
   "source": [
    "Train_data = np.transpose((0,0,0,0,0,0,0,0,0,0))\n",
    "\n",
    "A = genfromtxt('../DataGen/LFData/ExpT25C/Batch'+N+'.txt')\n",
    "j=0\n",
    "while j<len(A):\n",
    "    if A[j][4] == 1 and A[j][5] == 25 and A[j][6] == 0.1 and abs(A[j][7] - 25) < 1:\n",
    "        Train_data = np.vstack((Train_data,A[j]))\n",
    "    j=j+1\n",
    "\n",
    "A = genfromtxt('../DataGen/LFPred/25Cto40C/Batch'+N+'.txt')\n",
    "Train_data = np.vstack((Train_data,A))\n",
    "\n",
    "\n",
    "Train_data = np.delete(Train_data, (0), axis=0)"
   ]
  },
  {
   "cell_type": "code",
   "execution_count": 9,
   "metadata": {},
   "outputs": [],
   "source": [
    "my_new_data = Train_data.reshape((-1,1))\n",
    "\n",
    "C01 = my_new_data[1::10]\n",
    "Sur = my_new_data[2::10]\n",
    "Oth = my_new_data[3::10]\n",
    "Slt = my_new_data[4::10]\n",
    "StT = my_new_data[5::10]\n",
    "Age = my_new_data[6::10]\n",
    "ExT = my_new_data[7::10]\n",
    "Shr = np.log10(my_new_data[8::10])\n",
    "Vis = np.log10(my_new_data[9::10])"
   ]
  },
  {
   "cell_type": "code",
   "execution_count": 10,
   "metadata": {},
   "outputs": [],
   "source": [
    "np.savetxt('25Cto40C/Batch' + N +'/ExT_L.txt', ExT)\n",
    "np.savetxt('25Cto40C/Batch' + N +'/Shr_L.txt', Shr)\n",
    "np.savetxt('25Cto40C/Batch' + N +'/Vis_L.txt', Vis)"
   ]
  },
  {
   "cell_type": "code",
   "execution_count": null,
   "metadata": {},
   "outputs": [],
   "source": []
  }
 ],
 "metadata": {
  "kernelspec": {
   "display_name": "Python 3",
   "language": "python",
   "name": "python3"
  },
  "language_info": {
   "codemirror_mode": {
    "name": "ipython",
    "version": 3
   },
   "file_extension": ".py",
   "mimetype": "text/x-python",
   "name": "python",
   "nbconvert_exporter": "python",
   "pygments_lexer": "ipython3",
   "version": "3.7.4"
  }
 },
 "nbformat": 4,
 "nbformat_minor": 2
}
