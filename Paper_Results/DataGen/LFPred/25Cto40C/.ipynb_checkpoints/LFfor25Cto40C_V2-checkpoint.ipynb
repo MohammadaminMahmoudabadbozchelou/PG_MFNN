{
 "cells": [
  {
   "cell_type": "code",
   "execution_count": 1,
   "metadata": {},
   "outputs": [
    {
     "data": {
      "text/html": [
       "<style>.container { width:90% !important; }</style>"
      ],
      "text/plain": [
       "<IPython.core.display.HTML object>"
      ]
     },
     "metadata": {},
     "output_type": "display_data"
    }
   ],
   "source": [
    "import numpy\n",
    "import matplotlib\n",
    "from matplotlib import pylab, mlab, pyplot\n",
    "np = numpy\n",
    "plt = pyplot\n",
    "from matplotlib.pyplot import *\n",
    "import os\n",
    "from scipy.optimize import curve_fit\n",
    "from IPython.display import display, clear_output\n",
    "from IPython.core.pylabtools import figsize, getfigs\n",
    "from pylab import *\n",
    "from numpy import *\n",
    "import pandas as pd\n",
    "import ipywidgets as widgets\n",
    "import pybroom as br\n",
    "import lmfit\n",
    "import numpy as np\n",
    "import numpy as np\n",
    "from IPython.display import Math\n",
    "from ipywidgets import interact,Dropdown\n",
    "import ipywidgets as widgets # Widget definitions\n",
    "from IPython.display import display # Used to display widgets in the notebook\n",
    "from IPython.core.display import display, HTML\n",
    "display(HTML(\"<style>.container { width:90% !important; }</style>\"))\n",
    "import csv\n",
    "from numpy import genfromtxt\n",
    "import glob\n",
    "import random\n",
    "import sys\n",
    "np.set_printoptions(threshold=sys.maxsize)"
   ]
  },
  {
   "cell_type": "code",
   "execution_count": 2,
   "metadata": {},
   "outputs": [],
   "source": [
    "def func(x, ystress, eta_bg, power):\n",
    "    return ystress + eta_bg * (x ** power)"
   ]
  },
  {
   "cell_type": "code",
   "execution_count": 3,
   "metadata": {},
   "outputs": [],
   "source": [
    "N = '19'\n",
    "Batch = int(N)"
   ]
  },
  {
   "cell_type": "code",
   "execution_count": 4,
   "metadata": {},
   "outputs": [],
   "source": [
    "Train_data = np.transpose((0,0,0,0,0,0,0,0,0,0))\n",
    "\n",
    "A = genfromtxt('../../HFData/ExpT25C/Batch'+N+'.txt')\n",
    "j=0\n",
    "while j<len(A):\n",
    "    if A[j][4] == 1 and A[j][5] == 25 and A[j][6] == 0.1 and abs(A[j][7] - 25) < 1:\n",
    "        Train_data = np.vstack((Train_data,A[j]))\n",
    "    j=j+1\n",
    "    \n",
    "Train_data = np.delete(Train_data, (0), axis=0)"
   ]
  },
  {
   "cell_type": "code",
   "execution_count": 5,
   "metadata": {},
   "outputs": [],
   "source": [
    "xdata=Train_data.reshape((-1,1))[8::10]\n",
    "ydata=Train_data.reshape((-1,1))[9::10]\n",
    "\n",
    "ydata = (ydata[12:]*xdata[12:]).reshape((30,))\n",
    "xdata = xdata[12:].reshape((30,))\n",
    "\n",
    "popt, pcov = curve_fit(func, xdata, ydata, maxfev=10000, bounds=(0.01, inf))\n",
    "Sig_Yield = popt[0]\n",
    "Eta_BG = popt[1]\n",
    "Power = popt[2]"
   ]
  },
  {
   "cell_type": "code",
   "execution_count": 6,
   "metadata": {},
   "outputs": [],
   "source": [
    "Test_data = np.transpose((0,0,0,0,0,0,0,0,0,0))\n",
    "\n",
    "A = genfromtxt('../../HFData/ExpRm2/Batch'+N+'.txt')\n",
    "j=0\n",
    "while j<len(A):\n",
    "    if A[j][4] == 1 and A[j][5] == 25 and A[j][6] == 0.1:\n",
    "        Test_data = np.vstack((Test_data,A[j]))\n",
    "    j=j+1\n",
    "\n",
    "Test_data = np.delete(Test_data, (0), axis=0)"
   ]
  },
  {
   "cell_type": "code",
   "execution_count": 7,
   "metadata": {},
   "outputs": [],
   "source": [
    "ratio = (Test_data[0][9])/(Test_data[89][9])\n",
    "NewSig_Yield = Sig_Yield# * np.log10(ratio)\n",
    "NewEta_BG = Eta_BG / ratio\n",
    "NewPower = Power# * np.log10(ratio)"
   ]
  },
  {
   "cell_type": "code",
   "execution_count": 8,
   "metadata": {},
   "outputs": [],
   "source": [
    "Gama = np.power(10,numpy.linspace(-2,2,42))\n",
    "ST = NewSig_Yield + NewEta_BG * (Gama ** NewPower)\n",
    "Vis = (ST / Gama)"
   ]
  },
  {
   "cell_type": "code",
   "execution_count": 9,
   "metadata": {},
   "outputs": [],
   "source": [
    "j=0\n",
    "while j<len(Train_data):\n",
    "    Train_data[j][9] = Vis[j]\n",
    "    Train_data[j][8] = Gama[j]    \n",
    "    Train_data[j][7] = 40\n",
    "    j=j+1"
   ]
  },
  {
   "cell_type": "code",
   "execution_count": 10,
   "metadata": {},
   "outputs": [],
   "source": [
    "np.savetxt('Batch' + N +'.txt', Train_data)"
   ]
  },
  {
   "cell_type": "code",
   "execution_count": null,
   "metadata": {},
   "outputs": [],
   "source": []
  }
 ],
 "metadata": {
  "kernelspec": {
   "display_name": "Python 3",
   "language": "python",
   "name": "python3"
  },
  "language_info": {
   "codemirror_mode": {
    "name": "ipython",
    "version": 3
   },
   "file_extension": ".py",
   "mimetype": "text/x-python",
   "name": "python",
   "nbconvert_exporter": "python",
   "pygments_lexer": "ipython3",
   "version": "3.7.4"
  }
 },
 "nbformat": 4,
 "nbformat_minor": 2
}
