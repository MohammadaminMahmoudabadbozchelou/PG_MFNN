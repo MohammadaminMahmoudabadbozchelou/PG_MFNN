{
 "cells": [
  {
   "cell_type": "code",
   "execution_count": 1,
   "metadata": {},
   "outputs": [],
   "source": [
    "import csv\n",
    "import numpy as np\n",
    "from numpy import genfromtxt\n",
    "import pandas as pd\n",
    "import glob\n",
    "import random\n",
    "import sys\n",
    "np.set_printoptions(threshold=sys.maxsize)"
   ]
  },
  {
   "cell_type": "code",
   "execution_count": 2,
   "metadata": {},
   "outputs": [],
   "source": [
    "N = '19'\n",
    "Batch = int(N)"
   ]
  },
  {
   "cell_type": "code",
   "execution_count": 3,
   "metadata": {},
   "outputs": [],
   "source": [
    "TextFile = glob.glob(\"Coef/fc40/*.txt\")\n",
    "TextFile.sort()\n",
    "TextFile = np.delete(TextFile, Batch - 1, 0)"
   ]
  },
  {
   "cell_type": "code",
   "execution_count": 4,
   "metadata": {},
   "outputs": [],
   "source": [
    "i=0\n",
    "Train_data = np.transpose((0,0,0,0,0,0,0,0,0,0,0,0))\n",
    "\n",
    "while i<len(TextFile):\n",
    "    A = genfromtxt(TextFile[i])\n",
    "    j = 0\n",
    "    while j<len(A):\n",
    "        if A[j][6] == 0.1:\n",
    "            Train_data = np.vstack((Train_data,A[j]))\n",
    "        j=j+1\n",
    "    i=i+1\n",
    "Train_data = np.delete(Train_data, (0), axis=0)\n",
    "\n",
    "np.savetxt('ForRSudio/fc40/WithoutBatch' + N +'.txt', Train_data)"
   ]
  },
  {
   "cell_type": "code",
   "execution_count": null,
   "metadata": {},
   "outputs": [],
   "source": []
  }
 ],
 "metadata": {
  "kernelspec": {
   "display_name": "Python 3",
   "language": "python",
   "name": "python3"
  },
  "language_info": {
   "codemirror_mode": {
    "name": "ipython",
    "version": 3
   },
   "file_extension": ".py",
   "mimetype": "text/x-python",
   "name": "python",
   "nbconvert_exporter": "python",
   "pygments_lexer": "ipython3",
   "version": "3.7.4"
  }
 },
 "nbformat": 4,
 "nbformat_minor": 2
}
