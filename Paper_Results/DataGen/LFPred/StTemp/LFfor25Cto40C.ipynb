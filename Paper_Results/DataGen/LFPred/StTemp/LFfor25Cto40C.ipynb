{
 "cells": [
  {
   "cell_type": "code",
   "execution_count": 1,
   "metadata": {},
   "outputs": [],
   "source": [
    "import csv\n",
    "import numpy as np\n",
    "from numpy import genfromtxt\n",
    "import pandas as pd\n",
    "import glob\n",
    "import random\n",
    "import sys\n",
    "np.set_printoptions(threshold=sys.maxsize)"
   ]
  },
  {
   "cell_type": "code",
   "execution_count": 2,
   "metadata": {},
   "outputs": [],
   "source": [
    "N = '01'\n",
    "Batch = int(N)"
   ]
  },
  {
   "cell_type": "code",
   "execution_count": 3,
   "metadata": {},
   "outputs": [],
   "source": [
    "Train_data = np.transpose((0,0,0,0,0,0,0,0,0,0))\n",
    "\n",
    "A = genfromtxt('../../HFData/ExpT25C/Batch'+N+'.txt')\n",
    "j=0\n",
    "while j<len(A):\n",
    "    if A[j][4] == 1 and A[j][5] == 25 and A[j][6] == 0.1 and abs(A[j][7] - 25) < 1:\n",
    "        Train_data = np.vstack((Train_data,A[j]))\n",
    "    j=j+1\n",
    "    \n",
    "Train_data = np.delete(Train_data, (0), axis=0)"
   ]
  },
  {
   "cell_type": "code",
   "execution_count": 4,
   "metadata": {},
   "outputs": [],
   "source": [
    "Test_data = np.transpose((0,0,0,0,0,0,0,0,0,0))\n",
    "\n",
    "A = genfromtxt('../../HFData/ExpRm2/Batch'+N+'.txt')\n",
    "j=0\n",
    "while j<len(A):\n",
    "    if A[j][4] == 1 and A[j][5] == 25 and A[j][6] == 0.1:\n",
    "        Test_data = np.vstack((Test_data,A[j]))\n",
    "    j=j+1\n",
    "\n",
    "Test_data = np.delete(Test_data, (0), axis=0)"
   ]
  },
  {
   "cell_type": "code",
   "execution_count": 6,
   "metadata": {},
   "outputs": [
    {
     "data": {
      "text/plain": [
       "6.021210645175574"
      ]
     },
     "execution_count": 6,
     "metadata": {},
     "output_type": "execute_result"
    }
   ],
   "source": [
    "ratio = (Test_data[89][9])/(Test_data[0][9])\n",
    "1/ratio"
   ]
  },
  {
   "cell_type": "code",
   "execution_count": 6,
   "metadata": {},
   "outputs": [],
   "source": [
    "j=0\n",
    "AAA = np.zeros(42)\n",
    "BBB = np.zeros(42)\n",
    "while j<len(Train_data):\n",
    "    Train_data[j][9] = ratio * Train_data[j][9]\n",
    "    Train_data[j][7] = 40\n",
    "    j=j+1"
   ]
  },
  {
   "cell_type": "code",
   "execution_count": 7,
   "metadata": {},
   "outputs": [],
   "source": [
    "np.savetxt('Batch' + N +'.txt', Train_data)"
   ]
  },
  {
   "cell_type": "code",
   "execution_count": null,
   "metadata": {},
   "outputs": [],
   "source": []
  }
 ],
 "metadata": {
  "kernelspec": {
   "display_name": "Python 3",
   "language": "python",
   "name": "python3"
  },
  "language_info": {
   "codemirror_mode": {
    "name": "ipython",
    "version": 3
   },
   "file_extension": ".py",
   "mimetype": "text/x-python",
   "name": "python",
   "nbconvert_exporter": "python",
   "pygments_lexer": "ipython3",
   "version": "3.7.4"
  }
 },
 "nbformat": 4,
 "nbformat_minor": 2
}
